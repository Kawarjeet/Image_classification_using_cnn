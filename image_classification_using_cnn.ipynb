{
  "nbformat": 4,
  "nbformat_minor": 0,
  "metadata": {
    "colab": {
      "name": "image_classification_using_cnn.ipynb",
      "provenance": [],
      "include_colab_link": true
    },
    "kernelspec": {
      "name": "python3",
      "display_name": "Python 3"
    },
    "language_info": {
      "name": "python"
    },
    "accelerator": "GPU"
  },
  "cells": [
    {
      "cell_type": "markdown",
      "metadata": {
        "id": "view-in-github",
        "colab_type": "text"
      },
      "source": [
        "<a href=\"https://colab.research.google.com/github/Kawarjeet/Image_classification_using_cnn/blob/main/image_classification_using_cnn.ipynb\" target=\"_parent\"><img src=\"https://colab.research.google.com/assets/colab-badge.svg\" alt=\"Open In Colab\"/></a>"
      ]
    },
    {
      "cell_type": "markdown",
      "source": [
        "# The project classifies the images in the dataset as cats and dogs\n",
        "#### Dogs == 1 Cats == 0\n"
      ],
      "metadata": {
        "id": "bYR7KbRxICOF"
      }
    },
    {
      "cell_type": "markdown",
      "source": [
        "####Downloading dataset over the internet\n",
        "\n",
        "1.   !wget command is used to download files over the internet. Wget package is preinstalled on google colab so we do not need to install it explicitly.\n",
        "2.   syntax: wget [options] [url]\n",
        "\n"
      ],
      "metadata": {
        "id": "-BmKQH7SKN0M"
      }
    },
    {
      "cell_type": "code",
      "execution_count": 2,
      "metadata": {
        "colab": {
          "base_uri": "https://localhost:8080/"
        },
        "id": "r0PjxV4FiKzs",
        "outputId": "ea793a36-41d6-41e1-d745-6d5773fa6997"
      },
      "outputs": [
        {
          "output_type": "stream",
          "name": "stdout",
          "text": [
            "--2022-01-23 07:45:23--  https://download.microsoft.com/download/3/E/1/3E1C3F21-ECDB-4869-8368-6DEBA77B919F/kagglecatsanddogs_3367a.zip\n",
            "Resolving download.microsoft.com (download.microsoft.com)... 23.33.136.128, 2600:1402:6800:283::e59, 2600:1402:6800:297::e59\n",
            "Connecting to download.microsoft.com (download.microsoft.com)|23.33.136.128|:443... connected.\n",
            "HTTP request sent, awaiting response... 200 OK\n",
            "Length: 824894548 (787M) [application/octet-stream]\n",
            "Saving to: ‘kagglecatsanddogs_3367a.zip’\n",
            "\n",
            "kagglecatsanddogs_3 100%[===================>] 786.68M   224MB/s    in 3.5s    \n",
            "\n",
            "2022-01-23 07:45:27 (222 MB/s) - ‘kagglecatsanddogs_3367a.zip’ saved [824894548/824894548]\n",
            "\n"
          ]
        }
      ],
      "source": [
        "!wget https://download.microsoft.com/download/3/E/1/3E1C3F21-ECDB-4869-8368-6DEBA77B919F/kagglecatsanddogs_3367a.zip"
      ]
    },
    {
      "cell_type": "code",
      "source": [
        "!unzip kagglecatsanddogs_3367a.zip"
      ],
      "metadata": {
        "id": "cqrwBZUZiU-z"
      },
      "execution_count": null,
      "outputs": []
    },
    {
      "cell_type": "markdown",
      "source": [
        "##Import Modules"
      ],
      "metadata": {
        "id": "bk7bf24Hif2F"
      }
    },
    {
      "cell_type": "code",
      "source": [
        "import pandas as pd\n",
        "import numpy as np\n",
        "import matplotlib.pyplot as plt\n",
        "%matplotlib inline\n",
        "import warnings\n",
        "import random\n",
        "import seaborn as sns\n",
        "from keras.preprocessing.image import load_img\n",
        "warnings.filterwarnings('ignore')\n",
        "import os"
      ],
      "metadata": {
        "id": "JlVrLOtyiiBS"
      },
      "execution_count": 4,
      "outputs": []
    },
    {
      "cell_type": "markdown",
      "source": [
        "##Create Dataframe for Input and Output"
      ],
      "metadata": {
        "id": "TIL4LC_ni6UH"
      }
    },
    {
      "cell_type": "code",
      "source": [
        "input_path = []\n",
        "label = []\n",
        "\n",
        "for class_name in os.listdir(\"PetImages\"):\n",
        "    for path in os.listdir(\"PetImages/\"+class_name):\n",
        "      if class_name== 'Cat':\n",
        "        label.append(0)\n",
        "      else:\n",
        "        label.append(1)\n",
        "      input_path.append(os.path.join(\"PetImages\", class_name, path))\n",
        "print(input_path[0], label[0])\n",
        "print(\"label:\" + str(label))"
      ],
      "metadata": {
        "id": "Md8pUAzGjAqE"
      },
      "execution_count": null,
      "outputs": []
    },
    {
      "cell_type": "code",
      "source": [
        "len(label)"
      ],
      "metadata": {
        "colab": {
          "base_uri": "https://localhost:8080/"
        },
        "id": "DLeQCP_9nnRg",
        "outputId": "68e7c681-406c-4e73-8915-bc73daf36c8a"
      },
      "execution_count": 6,
      "outputs": [
        {
          "output_type": "execute_result",
          "data": {
            "text/plain": [
              "25002"
            ]
          },
          "metadata": {},
          "execution_count": 6
        }
      ]
    },
    {
      "cell_type": "code",
      "source": [
        "len(input_path)"
      ],
      "metadata": {
        "colab": {
          "base_uri": "https://localhost:8080/"
        },
        "id": "tYa6-52mPV7-",
        "outputId": "b5afc889-fd32-42c7-aedd-b71611e593e3"
      },
      "execution_count": 7,
      "outputs": [
        {
          "output_type": "execute_result",
          "data": {
            "text/plain": [
              "25002"
            ]
          },
          "metadata": {},
          "execution_count": 7
        }
      ]
    },
    {
      "cell_type": "code",
      "source": [
        "df = pd.DataFrame()\n",
        "df['images']= input_path\n",
        "df['label'] = label\n",
        "print(df.head()) #head() returns top 5 rows in the dataset, and tail() returns last 5 rows\n",
        "# frac=1 means returns all rows in random order\n",
        "df= df.sample(frac=1)\n",
        "# df.sample is the function to return random sample items\n",
        "print(df.head())\n",
        "df = df.sample(frac=1).reset_index(drop=True)\n",
        "df['label'] = df['label'].astype('str')  #converting the label values to type string otherwise it shows error while fitting the model in model.fit\n",
        "df.head()"
      ],
      "metadata": {
        "colab": {
          "base_uri": "https://localhost:8080/",
          "height": 414
        },
        "id": "801tLu_2qVN5",
        "outputId": "6fc84790-5c8c-433a-aa04-f0c76560b5b6"
      },
      "execution_count": 9,
      "outputs": [
        {
          "output_type": "stream",
          "name": "stdout",
          "text": [
            "                    images  label\n",
            "0    PetImages/Dog/490.jpg      1\n",
            "1   PetImages/Dog/9798.jpg      1\n",
            "2  PetImages/Dog/10804.jpg      1\n",
            "3   PetImages/Dog/2385.jpg      1\n",
            "4   PetImages/Dog/2459.jpg      1\n",
            "                        images  label\n",
            "3846   PetImages/Dog/12441.jpg      1\n",
            "3170    PetImages/Dog/2852.jpg      1\n",
            "141      PetImages/Dog/108.jpg      1\n",
            "18070  PetImages/Cat/11929.jpg      0\n",
            "9119    PetImages/Dog/5753.jpg      1\n"
          ]
        },
        {
          "output_type": "execute_result",
          "data": {
            "text/html": [
              "\n",
              "  <div id=\"df-12742882-0670-467f-9b03-1f6d960a8b03\">\n",
              "    <div class=\"colab-df-container\">\n",
              "      <div>\n",
              "<style scoped>\n",
              "    .dataframe tbody tr th:only-of-type {\n",
              "        vertical-align: middle;\n",
              "    }\n",
              "\n",
              "    .dataframe tbody tr th {\n",
              "        vertical-align: top;\n",
              "    }\n",
              "\n",
              "    .dataframe thead th {\n",
              "        text-align: right;\n",
              "    }\n",
              "</style>\n",
              "<table border=\"1\" class=\"dataframe\">\n",
              "  <thead>\n",
              "    <tr style=\"text-align: right;\">\n",
              "      <th></th>\n",
              "      <th>images</th>\n",
              "      <th>label</th>\n",
              "    </tr>\n",
              "  </thead>\n",
              "  <tbody>\n",
              "    <tr>\n",
              "      <th>0</th>\n",
              "      <td>PetImages/Cat/11345.jpg</td>\n",
              "      <td>0</td>\n",
              "    </tr>\n",
              "    <tr>\n",
              "      <th>1</th>\n",
              "      <td>PetImages/Dog/8519.jpg</td>\n",
              "      <td>1</td>\n",
              "    </tr>\n",
              "    <tr>\n",
              "      <th>2</th>\n",
              "      <td>PetImages/Cat/4063.jpg</td>\n",
              "      <td>0</td>\n",
              "    </tr>\n",
              "    <tr>\n",
              "      <th>3</th>\n",
              "      <td>PetImages/Dog/11909.jpg</td>\n",
              "      <td>1</td>\n",
              "    </tr>\n",
              "    <tr>\n",
              "      <th>4</th>\n",
              "      <td>PetImages/Cat/11188.jpg</td>\n",
              "      <td>0</td>\n",
              "    </tr>\n",
              "  </tbody>\n",
              "</table>\n",
              "</div>\n",
              "      <button class=\"colab-df-convert\" onclick=\"convertToInteractive('df-12742882-0670-467f-9b03-1f6d960a8b03')\"\n",
              "              title=\"Convert this dataframe to an interactive table.\"\n",
              "              style=\"display:none;\">\n",
              "        \n",
              "  <svg xmlns=\"http://www.w3.org/2000/svg\" height=\"24px\"viewBox=\"0 0 24 24\"\n",
              "       width=\"24px\">\n",
              "    <path d=\"M0 0h24v24H0V0z\" fill=\"none\"/>\n",
              "    <path d=\"M18.56 5.44l.94 2.06.94-2.06 2.06-.94-2.06-.94-.94-2.06-.94 2.06-2.06.94zm-11 1L8.5 8.5l.94-2.06 2.06-.94-2.06-.94L8.5 2.5l-.94 2.06-2.06.94zm10 10l.94 2.06.94-2.06 2.06-.94-2.06-.94-.94-2.06-.94 2.06-2.06.94z\"/><path d=\"M17.41 7.96l-1.37-1.37c-.4-.4-.92-.59-1.43-.59-.52 0-1.04.2-1.43.59L10.3 9.45l-7.72 7.72c-.78.78-.78 2.05 0 2.83L4 21.41c.39.39.9.59 1.41.59.51 0 1.02-.2 1.41-.59l7.78-7.78 2.81-2.81c.8-.78.8-2.07 0-2.86zM5.41 20L4 18.59l7.72-7.72 1.47 1.35L5.41 20z\"/>\n",
              "  </svg>\n",
              "      </button>\n",
              "      \n",
              "  <style>\n",
              "    .colab-df-container {\n",
              "      display:flex;\n",
              "      flex-wrap:wrap;\n",
              "      gap: 12px;\n",
              "    }\n",
              "\n",
              "    .colab-df-convert {\n",
              "      background-color: #E8F0FE;\n",
              "      border: none;\n",
              "      border-radius: 50%;\n",
              "      cursor: pointer;\n",
              "      display: none;\n",
              "      fill: #1967D2;\n",
              "      height: 32px;\n",
              "      padding: 0 0 0 0;\n",
              "      width: 32px;\n",
              "    }\n",
              "\n",
              "    .colab-df-convert:hover {\n",
              "      background-color: #E2EBFA;\n",
              "      box-shadow: 0px 1px 2px rgba(60, 64, 67, 0.3), 0px 1px 3px 1px rgba(60, 64, 67, 0.15);\n",
              "      fill: #174EA6;\n",
              "    }\n",
              "\n",
              "    [theme=dark] .colab-df-convert {\n",
              "      background-color: #3B4455;\n",
              "      fill: #D2E3FC;\n",
              "    }\n",
              "\n",
              "    [theme=dark] .colab-df-convert:hover {\n",
              "      background-color: #434B5C;\n",
              "      box-shadow: 0px 1px 3px 1px rgba(0, 0, 0, 0.15);\n",
              "      filter: drop-shadow(0px 1px 2px rgba(0, 0, 0, 0.3));\n",
              "      fill: #FFFFFF;\n",
              "    }\n",
              "  </style>\n",
              "\n",
              "      <script>\n",
              "        const buttonEl =\n",
              "          document.querySelector('#df-12742882-0670-467f-9b03-1f6d960a8b03 button.colab-df-convert');\n",
              "        buttonEl.style.display =\n",
              "          google.colab.kernel.accessAllowed ? 'block' : 'none';\n",
              "\n",
              "        async function convertToInteractive(key) {\n",
              "          const element = document.querySelector('#df-12742882-0670-467f-9b03-1f6d960a8b03');\n",
              "          const dataTable =\n",
              "            await google.colab.kernel.invokeFunction('convertToInteractive',\n",
              "                                                     [key], {});\n",
              "          if (!dataTable) return;\n",
              "\n",
              "          const docLinkHtml = 'Like what you see? Visit the ' +\n",
              "            '<a target=\"_blank\" href=https://colab.research.google.com/notebooks/data_table.ipynb>data table notebook</a>'\n",
              "            + ' to learn more about interactive tables.';\n",
              "          element.innerHTML = '';\n",
              "          dataTable['output_type'] = 'display_data';\n",
              "          await google.colab.output.renderOutput(dataTable, element);\n",
              "          const docLink = document.createElement('div');\n",
              "          docLink.innerHTML = docLinkHtml;\n",
              "          element.appendChild(docLink);\n",
              "        }\n",
              "      </script>\n",
              "    </div>\n",
              "  </div>\n",
              "  "
            ],
            "text/plain": [
              "                    images label\n",
              "0  PetImages/Cat/11345.jpg     0\n",
              "1   PetImages/Dog/8519.jpg     1\n",
              "2   PetImages/Cat/4063.jpg     0\n",
              "3  PetImages/Dog/11909.jpg     1\n",
              "4  PetImages/Cat/11188.jpg     0"
            ]
          },
          "metadata": {},
          "execution_count": 9
        }
      ]
    },
    {
      "cell_type": "code",
      "source": [
        "#checking for files in the dataset that are not jpg\n",
        "#model.fit throws an error when it encounters a file that is not an image file while training the dataset\n",
        "for i in df['images']:\n",
        "  if '.jpg' not in i:\n",
        "    print(i)"
      ],
      "metadata": {
        "colab": {
          "base_uri": "https://localhost:8080/"
        },
        "id": "0U_b4bTZnHXs",
        "outputId": "74341b5f-8c72-480b-afef-aa1842de6de1"
      },
      "execution_count": 10,
      "outputs": [
        {
          "output_type": "stream",
          "name": "stdout",
          "text": [
            "PetImages/Cat/Thumbs.db\n",
            "PetImages/Dog/Thumbs.db\n"
          ]
        }
      ]
    },
    {
      "cell_type": "markdown",
      "source": [
        "##Corrupt Image Filtering\n"
      ],
      "metadata": {
        "id": "0nF-Ni-wNjjO"
      }
    },
    {
      "cell_type": "code",
      "source": [
        "#Using PIL to filter out images that may be corrupt.\n",
        "#PIL is Python Image Library and is an image manipulation tool. \n",
        "#If the image opens then it is appended to the the array else it is rejected. \n",
        "#This filters out corrupt images.\n",
        "import PIL \n",
        "l =[]\n",
        "for image in df['images']:\n",
        "  try:\n",
        "    img= PIL.Image.open(image)\n",
        "  except:\n",
        "    l.append(image)\n",
        "l "
      ],
      "metadata": {
        "colab": {
          "base_uri": "https://localhost:8080/"
        },
        "id": "V1NV6Obknngz",
        "outputId": "8d44e516-e226-46f4-b139-32c669c8aa5a"
      },
      "execution_count": 11,
      "outputs": [
        {
          "output_type": "execute_result",
          "data": {
            "text/plain": [
              "['PetImages/Cat/666.jpg',\n",
              " 'PetImages/Cat/Thumbs.db',\n",
              " 'PetImages/Dog/11702.jpg',\n",
              " 'PetImages/Dog/Thumbs.db']"
            ]
          },
          "metadata": {},
          "execution_count": 11
        }
      ]
    },
    {
      "cell_type": "code",
      "source": [
        "# deleting unwanted files(includes both non jpg and corrupt files)\n",
        "df = df[df['images']!='PetImages/Dog/Thumbs.db']\n",
        "df = df[df['images']!='PetImages/Cat/Thumbs.db']\n",
        "df = df[df['images']!='PetImages/Dog/11702.jpg']\n",
        "df = df[df['images']!='PetImages/Cat/666.jpg']\n",
        "len(df)"
      ],
      "metadata": {
        "colab": {
          "base_uri": "https://localhost:8080/"
        },
        "id": "3BCutG4XnPUN",
        "outputId": "7a4cc02e-333a-45a0-e276-3853a668d98b"
      },
      "execution_count": 12,
      "outputs": [
        {
          "output_type": "execute_result",
          "data": {
            "text/plain": [
              "24998"
            ]
          },
          "metadata": {},
          "execution_count": 12
        }
      ]
    },
    {
      "cell_type": "markdown",
      "source": [
        "##Exploratory Data Analysis"
      ],
      "metadata": {
        "id": "1VsgMqtYt7EW"
      }
    },
    {
      "cell_type": "code",
      "source": [
        "# to display grid of images for dogs\n",
        "plt.figure(figsize=(25,25))\n",
        "temp=df[df['label']==1]['images']\n",
        "print('temp:' +str(temp))\n",
        "start = random.randint(0, len(temp))\n",
        "files = temp[start:start+25]\n",
        "\n",
        "for index, file in enumerate(files):\n",
        "  plt.subplot(5,5,index+1)\n",
        "  img = load_img(file)\n",
        "  img = np.array(img)\n",
        "  plt.imshow(img)\n",
        "  plt.title('Dogs')\n",
        "  plt.axis('off')\n"
      ],
      "metadata": {
        "id": "qMTgrMNSuAlo",
        "colab": {
          "base_uri": "https://localhost:8080/",
          "height": 52
        },
        "outputId": "4dd8bc67-d2a1-4ae7-8c94-13ace16aca8a"
      },
      "execution_count": 13,
      "outputs": [
        {
          "output_type": "stream",
          "name": "stdout",
          "text": [
            "temp:Series([], Name: images, dtype: object)\n"
          ]
        },
        {
          "output_type": "display_data",
          "data": {
            "text/plain": [
              "<Figure size 1800x1800 with 0 Axes>"
            ]
          },
          "metadata": {}
        }
      ]
    },
    {
      "cell_type": "code",
      "source": [
        "# to display grid of images for cats\n",
        "plt.figure(figsize=(25,25))\n",
        "temp = df[df['label']==0]['images']\n",
        "start = random.randint(0,len(temp))\n",
        "files = temp[start:start+25]\n",
        "\n",
        "for index, file in enumerate(files):\n",
        "  plt.subplot(5,5, index+1)\n",
        "  img= load_img(file)\n",
        "  img = np.array(img)\n",
        "  plt.imshow(img)\n",
        "  plt.title('cats')\n",
        "  plt.axis('off')\n"
      ],
      "metadata": {
        "colab": {
          "base_uri": "https://localhost:8080/",
          "height": 34
        },
        "id": "q8cZLefFwFr7",
        "outputId": "aea8eda4-06c1-4a87-855f-7f73e57de7e7"
      },
      "execution_count": 14,
      "outputs": [
        {
          "output_type": "display_data",
          "data": {
            "text/plain": [
              "<Figure size 1800x1800 with 0 Axes>"
            ]
          },
          "metadata": {}
        }
      ]
    },
    {
      "cell_type": "code",
      "source": [
        "sns.countplot(df['label'])"
      ],
      "metadata": {
        "id": "1nRFOy_PvkCz",
        "colab": {
          "base_uri": "https://localhost:8080/",
          "height": 296
        },
        "outputId": "3aea79bb-19b7-4cf9-bddc-8a3dab30cd06"
      },
      "execution_count": null,
      "outputs": [
        {
          "output_type": "execute_result",
          "data": {
            "text/plain": [
              "<matplotlib.axes._subplots.AxesSubplot at 0x7fd5fb39a210>"
            ]
          },
          "metadata": {},
          "execution_count": 14
        },
        {
          "output_type": "display_data",
          "data": {
            "image/png": "[encoded data removed]",
            "text/plain": [
              "<Figure size 432x288 with 1 Axes>"
            ]
          },
          "metadata": {
            "needs_background": "light"
          }
        }
      ]
    },
    {
      "cell_type": "code",
      "source": [
        "#input split into training and validation set\n",
        "from sklearn.model_selection import train_test_split\n",
        "train, test = train_test_split(df, test_size=0.2, random_state=42)"
      ],
      "metadata": {
        "id": "hQBxVabLjS0C"
      },
      "execution_count": 15,
      "outputs": []
    },
    {
      "cell_type": "code",
      "source": [
        "train.head()"
      ],
      "metadata": {
        "colab": {
          "base_uri": "https://localhost:8080/",
          "height": 206
        },
        "id": "d3-oKozZjj4W",
        "outputId": "87108dd3-d096-4393-e7c7-dd1f4a8cca1c"
      },
      "execution_count": null,
      "outputs": [
        {
          "output_type": "execute_result",
          "data": {
            "text/html": [
              "\n",
              "  <div id=\"df-59f7be3b-a32b-4126-a298-976986ac540f\">\n",
              "    <div class=\"colab-df-container\">\n",
              "      <div>\n",
              "<style scoped>\n",
              "    .dataframe tbody tr th:only-of-type {\n",
              "        vertical-align: middle;\n",
              "    }\n",
              "\n",
              "    .dataframe tbody tr th {\n",
              "        vertical-align: top;\n",
              "    }\n",
              "\n",
              "    .dataframe thead th {\n",
              "        text-align: right;\n",
              "    }\n",
              "</style>\n",
              "<table border=\"1\" class=\"dataframe\">\n",
              "  <thead>\n",
              "    <tr style=\"text-align: right;\">\n",
              "      <th></th>\n",
              "      <th>images</th>\n",
              "      <th>label</th>\n",
              "    </tr>\n",
              "  </thead>\n",
              "  <tbody>\n",
              "    <tr>\n",
              "      <th>23288</th>\n",
              "      <td>PetImages/Dog/10136.jpg</td>\n",
              "      <td>1</td>\n",
              "    </tr>\n",
              "    <tr>\n",
              "      <th>17782</th>\n",
              "      <td>PetImages/Dog/3693.jpg</td>\n",
              "      <td>1</td>\n",
              "    </tr>\n",
              "    <tr>\n",
              "      <th>1020</th>\n",
              "      <td>PetImages/Cat/8811.jpg</td>\n",
              "      <td>0</td>\n",
              "    </tr>\n",
              "    <tr>\n",
              "      <th>12645</th>\n",
              "      <td>PetImages/Dog/2758.jpg</td>\n",
              "      <td>1</td>\n",
              "    </tr>\n",
              "    <tr>\n",
              "      <th>1533</th>\n",
              "      <td>PetImages/Cat/1841.jpg</td>\n",
              "      <td>0</td>\n",
              "    </tr>\n",
              "  </tbody>\n",
              "</table>\n",
              "</div>\n",
              "      <button class=\"colab-df-convert\" onclick=\"convertToInteractive('df-59f7be3b-a32b-4126-a298-976986ac540f')\"\n",
              "              title=\"Convert this dataframe to an interactive table.\"\n",
              "              style=\"display:none;\">\n",
              "        \n",
              "  <svg xmlns=\"http://www.w3.org/2000/svg\" height=\"24px\"viewBox=\"0 0 24 24\"\n",
              "       width=\"24px\">\n",
              "    <path d=\"M0 0h24v24H0V0z\" fill=\"none\"/>\n",
              "    <path d=\"M18.56 5.44l.94 2.06.94-2.06 2.06-.94-2.06-.94-.94-2.06-.94 2.06-2.06.94zm-11 1L8.5 8.5l.94-2.06 2.06-.94-2.06-.94L8.5 2.5l-.94 2.06-2.06.94zm10 10l.94 2.06.94-2.06 2.06-.94-2.06-.94-.94-2.06-.94 2.06-2.06.94z\"/><path d=\"M17.41 7.96l-1.37-1.37c-.4-.4-.92-.59-1.43-.59-.52 0-1.04.2-1.43.59L10.3 9.45l-7.72 7.72c-.78.78-.78 2.05 0 2.83L4 21.41c.39.39.9.59 1.41.59.51 0 1.02-.2 1.41-.59l7.78-7.78 2.81-2.81c.8-.78.8-2.07 0-2.86zM5.41 20L4 18.59l7.72-7.72 1.47 1.35L5.41 20z\"/>\n",
              "  </svg>\n",
              "      </button>\n",
              "      \n",
              "  <style>\n",
              "    .colab-df-container {\n",
              "      display:flex;\n",
              "      flex-wrap:wrap;\n",
              "      gap: 12px;\n",
              "    }\n",
              "\n",
              "    .colab-df-convert {\n",
              "      background-color: #E8F0FE;\n",
              "      border: none;\n",
              "      border-radius: 50%;\n",
              "      cursor: pointer;\n",
              "      display: none;\n",
              "      fill: #1967D2;\n",
              "      height: 32px;\n",
              "      padding: 0 0 0 0;\n",
              "      width: 32px;\n",
              "    }\n",
              "\n",
              "    .colab-df-convert:hover {\n",
              "      background-color: #E2EBFA;\n",
              "      box-shadow: 0px 1px 2px rgba(60, 64, 67, 0.3), 0px 1px 3px 1px rgba(60, 64, 67, 0.15);\n",
              "      fill: #174EA6;\n",
              "    }\n",
              "\n",
              "    [theme=dark] .colab-df-convert {\n",
              "      background-color: #3B4455;\n",
              "      fill: #D2E3FC;\n",
              "    }\n",
              "\n",
              "    [theme=dark] .colab-df-convert:hover {\n",
              "      background-color: #434B5C;\n",
              "      box-shadow: 0px 1px 3px 1px rgba(0, 0, 0, 0.15);\n",
              "      filter: drop-shadow(0px 1px 2px rgba(0, 0, 0, 0.3));\n",
              "      fill: #FFFFFF;\n",
              "    }\n",
              "  </style>\n",
              "\n",
              "      <script>\n",
              "        const buttonEl =\n",
              "          document.querySelector('#df-59f7be3b-a32b-4126-a298-976986ac540f button.colab-df-convert');\n",
              "        buttonEl.style.display =\n",
              "          google.colab.kernel.accessAllowed ? 'block' : 'none';\n",
              "\n",
              "        async function convertToInteractive(key) {\n",
              "          const element = document.querySelector('#df-59f7be3b-a32b-4126-a298-976986ac540f');\n",
              "          const dataTable =\n",
              "            await google.colab.kernel.invokeFunction('convertToInteractive',\n",
              "                                                     [key], {});\n",
              "          if (!dataTable) return;\n",
              "\n",
              "          const docLinkHtml = 'Like what you see? Visit the ' +\n",
              "            '<a target=\"_blank\" href=https://colab.research.google.com/notebooks/data_table.ipynb>data table notebook</a>'\n",
              "            + ' to learn more about interactive tables.';\n",
              "          element.innerHTML = '';\n",
              "          dataTable['output_type'] = 'display_data';\n",
              "          await google.colab.output.renderOutput(dataTable, element);\n",
              "          const docLink = document.createElement('div');\n",
              "          docLink.innerHTML = docLinkHtml;\n",
              "          element.appendChild(docLink);\n",
              "        }\n",
              "      </script>\n",
              "    </div>\n",
              "  </div>\n",
              "  "
            ],
            "text/plain": [
              "                        images label\n",
              "23288  PetImages/Dog/10136.jpg     1\n",
              "17782   PetImages/Dog/3693.jpg     1\n",
              "1020    PetImages/Cat/8811.jpg     0\n",
              "12645   PetImages/Dog/2758.jpg     1\n",
              "1533    PetImages/Cat/1841.jpg     0"
            ]
          },
          "metadata": {},
          "execution_count": 25
        }
      ]
    },
    {
      "cell_type": "code",
      "source": [
        "len(train)"
      ],
      "metadata": {
        "colab": {
          "base_uri": "https://localhost:8080/"
        },
        "id": "Ly8uCjkBS5yJ",
        "outputId": "27bf5381-8f7b-4c6d-d4b4-56cc0080aa23"
      },
      "execution_count": null,
      "outputs": [
        {
          "output_type": "execute_result",
          "data": {
            "text/plain": [
              "19998"
            ]
          },
          "metadata": {},
          "execution_count": 26
        }
      ]
    },
    {
      "cell_type": "code",
      "source": [
        "len(test)"
      ],
      "metadata": {
        "colab": {
          "base_uri": "https://localhost:8080/"
        },
        "id": "OP2utR6iS7rs",
        "outputId": "544b3980-5722-42de-8f44-0c118a69972c"
      },
      "execution_count": null,
      "outputs": [
        {
          "output_type": "execute_result",
          "data": {
            "text/plain": [
              "5000"
            ]
          },
          "metadata": {},
          "execution_count": 27
        }
      ]
    },
    {
      "cell_type": "code",
      "source": [
        "test.head()"
      ],
      "metadata": {
        "colab": {
          "base_uri": "https://localhost:8080/",
          "height": 206
        },
        "id": "guU2yTYBjpWc",
        "outputId": "8d82becc-cb5e-4eb7-fb6c-824f068bca1f"
      },
      "execution_count": null,
      "outputs": [
        {
          "output_type": "execute_result",
          "data": {
            "text/html": [
              "\n",
              "  <div id=\"df-5b9b8be5-16b8-4ed1-98f3-3b612fc0ab6c\">\n",
              "    <div class=\"colab-df-container\">\n",
              "      <div>\n",
              "<style scoped>\n",
              "    .dataframe tbody tr th:only-of-type {\n",
              "        vertical-align: middle;\n",
              "    }\n",
              "\n",
              "    .dataframe tbody tr th {\n",
              "        vertical-align: top;\n",
              "    }\n",
              "\n",
              "    .dataframe thead th {\n",
              "        text-align: right;\n",
              "    }\n",
              "</style>\n",
              "<table border=\"1\" class=\"dataframe\">\n",
              "  <thead>\n",
              "    <tr style=\"text-align: right;\">\n",
              "      <th></th>\n",
              "      <th>images</th>\n",
              "      <th>label</th>\n",
              "    </tr>\n",
              "  </thead>\n",
              "  <tbody>\n",
              "    <tr>\n",
              "      <th>6869</th>\n",
              "      <td>PetImages/Dog/2089.jpg</td>\n",
              "      <td>1</td>\n",
              "    </tr>\n",
              "    <tr>\n",
              "      <th>22912</th>\n",
              "      <td>PetImages/Dog/11509.jpg</td>\n",
              "      <td>1</td>\n",
              "    </tr>\n",
              "    <tr>\n",
              "      <th>9669</th>\n",
              "      <td>PetImages/Cat/5072.jpg</td>\n",
              "      <td>0</td>\n",
              "    </tr>\n",
              "    <tr>\n",
              "      <th>13639</th>\n",
              "      <td>PetImages/Cat/5102.jpg</td>\n",
              "      <td>0</td>\n",
              "    </tr>\n",
              "    <tr>\n",
              "      <th>23339</th>\n",
              "      <td>PetImages/Dog/3290.jpg</td>\n",
              "      <td>1</td>\n",
              "    </tr>\n",
              "  </tbody>\n",
              "</table>\n",
              "</div>\n",
              "      <button class=\"colab-df-convert\" onclick=\"convertToInteractive('df-5b9b8be5-16b8-4ed1-98f3-3b612fc0ab6c')\"\n",
              "              title=\"Convert this dataframe to an interactive table.\"\n",
              "              style=\"display:none;\">\n",
              "        \n",
              "  <svg xmlns=\"http://www.w3.org/2000/svg\" height=\"24px\"viewBox=\"0 0 24 24\"\n",
              "       width=\"24px\">\n",
              "    <path d=\"M0 0h24v24H0V0z\" fill=\"none\"/>\n",
              "    <path d=\"M18.56 5.44l.94 2.06.94-2.06 2.06-.94-2.06-.94-.94-2.06-.94 2.06-2.06.94zm-11 1L8.5 8.5l.94-2.06 2.06-.94-2.06-.94L8.5 2.5l-.94 2.06-2.06.94zm10 10l.94 2.06.94-2.06 2.06-.94-2.06-.94-.94-2.06-.94 2.06-2.06.94z\"/><path d=\"M17.41 7.96l-1.37-1.37c-.4-.4-.92-.59-1.43-.59-.52 0-1.04.2-1.43.59L10.3 9.45l-7.72 7.72c-.78.78-.78 2.05 0 2.83L4 21.41c.39.39.9.59 1.41.59.51 0 1.02-.2 1.41-.59l7.78-7.78 2.81-2.81c.8-.78.8-2.07 0-2.86zM5.41 20L4 18.59l7.72-7.72 1.47 1.35L5.41 20z\"/>\n",
              "  </svg>\n",
              "      </button>\n",
              "      \n",
              "  <style>\n",
              "    .colab-df-container {\n",
              "      display:flex;\n",
              "      flex-wrap:wrap;\n",
              "      gap: 12px;\n",
              "    }\n",
              "\n",
              "    .colab-df-convert {\n",
              "      background-color: #E8F0FE;\n",
              "      border: none;\n",
              "      border-radius: 50%;\n",
              "      cursor: pointer;\n",
              "      display: none;\n",
              "      fill: #1967D2;\n",
              "      height: 32px;\n",
              "      padding: 0 0 0 0;\n",
              "      width: 32px;\n",
              "    }\n",
              "\n",
              "    .colab-df-convert:hover {\n",
              "      background-color: #E2EBFA;\n",
              "      box-shadow: 0px 1px 2px rgba(60, 64, 67, 0.3), 0px 1px 3px 1px rgba(60, 64, 67, 0.15);\n",
              "      fill: #174EA6;\n",
              "    }\n",
              "\n",
              "    [theme=dark] .colab-df-convert {\n",
              "      background-color: #3B4455;\n",
              "      fill: #D2E3FC;\n",
              "    }\n",
              "\n",
              "    [theme=dark] .colab-df-convert:hover {\n",
              "      background-color: #434B5C;\n",
              "      box-shadow: 0px 1px 3px 1px rgba(0, 0, 0, 0.15);\n",
              "      filter: drop-shadow(0px 1px 2px rgba(0, 0, 0, 0.3));\n",
              "      fill: #FFFFFF;\n",
              "    }\n",
              "  </style>\n",
              "\n",
              "      <script>\n",
              "        const buttonEl =\n",
              "          document.querySelector('#df-5b9b8be5-16b8-4ed1-98f3-3b612fc0ab6c button.colab-df-convert');\n",
              "        buttonEl.style.display =\n",
              "          google.colab.kernel.accessAllowed ? 'block' : 'none';\n",
              "\n",
              "        async function convertToInteractive(key) {\n",
              "          const element = document.querySelector('#df-5b9b8be5-16b8-4ed1-98f3-3b612fc0ab6c');\n",
              "          const dataTable =\n",
              "            await google.colab.kernel.invokeFunction('convertToInteractive',\n",
              "                                                     [key], {});\n",
              "          if (!dataTable) return;\n",
              "\n",
              "          const docLinkHtml = 'Like what you see? Visit the ' +\n",
              "            '<a target=\"_blank\" href=https://colab.research.google.com/notebooks/data_table.ipynb>data table notebook</a>'\n",
              "            + ' to learn more about interactive tables.';\n",
              "          element.innerHTML = '';\n",
              "          dataTable['output_type'] = 'display_data';\n",
              "          await google.colab.output.renderOutput(dataTable, element);\n",
              "          const docLink = document.createElement('div');\n",
              "          docLink.innerHTML = docLinkHtml;\n",
              "          element.appendChild(docLink);\n",
              "        }\n",
              "      </script>\n",
              "    </div>\n",
              "  </div>\n",
              "  "
            ],
            "text/plain": [
              "                        images label\n",
              "6869    PetImages/Dog/2089.jpg     1\n",
              "22912  PetImages/Dog/11509.jpg     1\n",
              "9669    PetImages/Cat/5072.jpg     0\n",
              "13639   PetImages/Cat/5102.jpg     0\n",
              "23339   PetImages/Dog/3290.jpg     1"
            ]
          },
          "metadata": {},
          "execution_count": 17
        }
      ]
    },
    {
      "cell_type": "code",
      "source": [
        "# Image augmentation – A refresher\n",
        "# Image augmentation is a technique of applying different transformations to original images \n",
        "# which results in multiple transformed copies of the same image. Each copy, however, is different \n",
        "# from the other in certain aspects depending on the augmentation techniques you apply like shifting, \n",
        "# rotating, flipping, etc.\n",
        "\n",
        "# Applying these small amounts of variations on the original image does not change its target class \n",
        "# but only provides a new perspective of capturing the object in real life. And so, we use it is quite \n",
        "# often for building deep learning models.\n",
        "\n",
        "# These image augmentation techniques not only expand the size of your dataset but also incorporate a level \n",
        "# of variation in the dataset which allows your model to generalize better on unseen data. Also, the model \n",
        "# becomes more robust when it is trained on new, slightly altered images.\n",
        "\n",
        "# So, with just a few lines of code, you can instantly create a large corpus of similar images without having \n",
        "# to worry about collecting new images, which is not feasible in a real-world scenario. Now, let’s see how \n",
        "# it’s done with the good old Keras library!\n",
        "\n",
        "\n",
        "#Image/Data augmentation for the training set to prevent overfitting \n",
        "from keras.preprocessing.image import ImageDataGenerator\n",
        "train_generator = ImageDataGenerator(\n",
        "  rescale = 1./255, \n",
        "  #Rescale is a value by which we will multiply the data before any other processing. \n",
        "  #Our original images consist in RGB coefficients in the 0-255, but such values would be \n",
        "  #too high for our model to process (given a typical learning rate), \n",
        "  #so we convert the pixels in range [0,255] to range [0,1]  by scaling with a 1./255 factor\n",
        "  rotation_range = 40,\n",
        "  shear_range = 0.2,\n",
        "  zoom_range = 0.2,\n",
        "  horizontal_flip = True,\n",
        "  fill_mode = 'nearest' \n",
        "  )\n",
        "\n",
        "val_generator = ImageDataGenerator(rescale = 1./255) # we do not augment images in the validation set\n",
        "\n",
        "train_iterator = train_generator.flow_from_dataframe( \n",
        "    df,\n",
        "    x_col='images',\n",
        "    y_col = 'label',\n",
        "    target_size = (128,128),\n",
        "    batch_size = 512,\n",
        "    class_mode = 'binary'\n",
        ")\n",
        "\n",
        "val_iterator = val_generator.flow_from_dataframe(\n",
        "    df,\n",
        "    x_col='images',\n",
        "    y_col = 'label',\n",
        "    target_size = (128,128),\n",
        "    batch_size = 512,\n",
        "    class_mode = 'binary'\n",
        ")"
      ],
      "metadata": {
        "colab": {
          "base_uri": "https://localhost:8080/"
        },
        "id": "_QpT8wFlfUsd",
        "outputId": "0a6602f7-7eaf-43e4-abf8-29790d1a24b3"
      },
      "execution_count": 16,
      "outputs": [
        {
          "output_type": "stream",
          "name": "stdout",
          "text": [
            "Found 24998 validated image filenames belonging to 2 classes.\n",
            "Found 24998 validated image filenames belonging to 2 classes.\n"
          ]
        }
      ]
    },
    {
      "cell_type": "markdown",
      "source": [
        "## Creating the Model using CNN"
      ],
      "metadata": {
        "id": "tMvCpcuIhLXz"
      }
    },
    {
      "cell_type": "code",
      "source": [
        "# Creating a 3 layered convolutional neural network model\n",
        "import tensorflow as tf\n",
        "from keras import Sequential\n",
        "from keras.layers import Conv2D, MaxPool2D, Flatten, Dense\n",
        "\n",
        "model = Sequential([\n",
        "                    # 16 neuron layer\n",
        "                    Conv2D(16, (3,3), activation='relu', input_shape=(128, 128,3)), #(128,128,3) means its a 128 x 128 RGB image\n",
        "                    # (3,3) is the kernel or filter size with which we convolve the image. \n",
        "                    # the activation function we used here is relu(Rectified Linear Unit)\n",
        "                    # some other activation functions that we could have used are:\n",
        "                    # 1. sigmoid function\n",
        "                    # 2. softmax function\n",
        "                    # 3. softplus function\n",
        "                    # 4. softsign function\n",
        "                    # 5. tanh function\n",
        "                    # 6. selu function\n",
        "                    # 7. elu function\n",
        "                    # 8. exponential function\n",
        "                    \n",
        "                    # The ReLU function is 𝑓(𝑥)=max(0,𝑥)\n",
        "                    # Why are ReLUs better than other activation functions? \n",
        "                    # They are simple, fast to compute, and don't suffer from vanishing gradients, \n",
        "                    # like sigmoid functions (logistic, tanh, erf, and similar).\n",
        "\n",
        "                    # if the image is less than 128*128 then it is recommended to use a 1x1 or 3x3 kernel size.\n",
        "                    # For higher dimensions we may go for 5x5 or 7x7 kernel size\n",
        "                    MaxPool2D((2,2)), \n",
        "                    # we could have also used strided convolution to reduce spatial dimensions as given below\n",
        "                    # Conv2D(16, 3, strides=(2, 2), activation='relu')\n",
        "                    # strides is the number of pixels we move to the right when the kernel shifts. By default it is 1\n",
        "\n",
        "\n",
        "                    # 32 neuron layer\n",
        "                    Conv2D(32,(3,3), activation = 'relu'),\n",
        "                    MaxPool2D((2,2)),\n",
        "                    # 64 neuron layer\n",
        "                    Conv2D(64, (3,3), activation = 'relu'),\n",
        "                    MaxPool2D((2,2)),\n",
        "                    Flatten(), #using flatten() to convert the data in 1-D\n",
        "                    Dense(512, activation ='relu'),\n",
        "                    Dense(1, activation = 'sigmoid')\n",
        "])\n",
        "\n",
        "\n"
      ],
      "metadata": {
        "id": "jNpkEnA6hTc_"
      },
      "execution_count": 31,
      "outputs": []
    },
    {
      "cell_type": "code",
      "source": [
        "model.compile(optimizer='adam', loss = 'binary_crossentropy', metrics=['accuracy'])\n",
        "model.summary()"
      ],
      "metadata": {
        "id": "TYr6L3AZviQB",
        "colab": {
          "base_uri": "https://localhost:8080/"
        },
        "outputId": "0270b44b-821f-47fe-bb56-668995967e64"
      },
      "execution_count": null,
      "outputs": [
        {
          "output_type": "stream",
          "name": "stdout",
          "text": [
            "Model: \"sequential\"\n",
            "_________________________________________________________________\n",
            " Layer (type)                Output Shape              Param #   \n",
            "=================================================================\n",
            " conv2d (Conv2D)             (None, 126, 126, 16)      448       \n",
            "                                                                 \n",
            " max_pooling2d (MaxPooling2D  (None, 63, 63, 16)       0         \n",
            " )                                                               \n",
            "                                                                 \n",
            " conv2d_1 (Conv2D)           (None, 61, 61, 32)        4640      \n",
            "                                                                 \n",
            " max_pooling2d_1 (MaxPooling  (None, 30, 30, 32)       0         \n",
            " 2D)                                                             \n",
            "                                                                 \n",
            " conv2d_2 (Conv2D)           (None, 28, 28, 64)        18496     \n",
            "                                                                 \n",
            " max_pooling2d_2 (MaxPooling  (None, 14, 14, 64)       0         \n",
            " 2D)                                                             \n",
            "                                                                 \n",
            " flatten (Flatten)           (None, 12544)             0         \n",
            "                                                                 \n",
            " dense (Dense)               (None, 512)               6423040   \n",
            "                                                                 \n",
            " dense_1 (Dense)             (None, 1)                 513       \n",
            "                                                                 \n",
            "=================================================================\n",
            "Total params: 6,447,137\n",
            "Trainable params: 6,447,137\n",
            "Non-trainable params: 0\n",
            "_________________________________________________________________\n"
          ]
        }
      ]
    },
    {
      "cell_type": "code",
      "source": [
        "history = model.fit(train_iterator, epochs = 50, validation_data=val_iterator)"
      ],
      "metadata": {
        "colab": {
          "base_uri": "https://localhost:8080/"
        },
        "id": "p6Elmwx8i6O4",
        "outputId": "70222e22-53d5-4cea-c7dc-acf14a623e6c"
      },
      "execution_count": null,
      "outputs": [
        {
          "output_type": "stream",
          "name": "stdout",
          "text": [
            "Epoch 1/50\n",
            "49/49 [==============================] - 213s 4s/step - loss: 0.7180 - accuracy: 0.5388 - val_loss: 0.6489 - val_accuracy: 0.6311\n",
            "Epoch 2/50\n",
            "49/49 [==============================] - 197s 4s/step - loss: 0.6170 - accuracy: 0.6615 - val_loss: 0.5974 - val_accuracy: 0.6911\n",
            "Epoch 3/50\n",
            "49/49 [==============================] - 197s 4s/step - loss: 0.5618 - accuracy: 0.7087 - val_loss: 0.5109 - val_accuracy: 0.7515\n",
            "Epoch 4/50\n",
            "49/49 [==============================] - 197s 4s/step - loss: 0.5204 - accuracy: 0.7412 - val_loss: 0.4832 - val_accuracy: 0.7690\n",
            "Epoch 5/50\n",
            "49/49 [==============================] - 197s 4s/step - loss: 0.4895 - accuracy: 0.7608 - val_loss: 0.4736 - val_accuracy: 0.7673\n",
            "Epoch 6/50\n",
            "49/49 [==============================] - 197s 4s/step - loss: 0.4777 - accuracy: 0.7685 - val_loss: 0.4713 - val_accuracy: 0.7799\n",
            "Epoch 7/50\n",
            "49/49 [==============================] - 196s 4s/step - loss: 0.4543 - accuracy: 0.7849 - val_loss: 0.4083 - val_accuracy: 0.8152\n",
            "Epoch 8/50\n",
            "49/49 [==============================] - 199s 4s/step - loss: 0.4398 - accuracy: 0.7968 - val_loss: 0.4060 - val_accuracy: 0.8155\n",
            "Epoch 9/50\n",
            "49/49 [==============================] - 196s 4s/step - loss: 0.4289 - accuracy: 0.7973 - val_loss: 0.4024 - val_accuracy: 0.8126\n",
            "Epoch 10/50\n",
            "49/49 [==============================] - 199s 4s/step - loss: 0.4210 - accuracy: 0.8067 - val_loss: 0.3806 - val_accuracy: 0.8291\n",
            "Epoch 11/50\n",
            "49/49 [==============================] - 199s 4s/step - loss: 0.3986 - accuracy: 0.8186 - val_loss: 0.3618 - val_accuracy: 0.8386\n",
            "Epoch 12/50\n",
            "49/49 [==============================] - 200s 4s/step - loss: 0.3959 - accuracy: 0.8224 - val_loss: 0.3473 - val_accuracy: 0.8469\n",
            "Epoch 13/50\n",
            "49/49 [==============================] - 197s 4s/step - loss: 0.3817 - accuracy: 0.8267 - val_loss: 0.3474 - val_accuracy: 0.8486\n",
            "Epoch 14/50\n",
            "49/49 [==============================] - 197s 4s/step - loss: 0.3759 - accuracy: 0.8321 - val_loss: 0.3512 - val_accuracy: 0.8478\n",
            "Epoch 15/50\n",
            "49/49 [==============================] - 199s 4s/step - loss: 0.3641 - accuracy: 0.8371 - val_loss: 0.3300 - val_accuracy: 0.8562\n",
            "Epoch 16/50\n",
            "49/49 [==============================] - 196s 4s/step - loss: 0.3613 - accuracy: 0.8386 - val_loss: 0.3334 - val_accuracy: 0.8555\n",
            "Epoch 17/50\n",
            "49/49 [==============================] - 199s 4s/step - loss: 0.3629 - accuracy: 0.8349 - val_loss: 0.3441 - val_accuracy: 0.8498\n",
            "Epoch 18/50\n",
            "49/49 [==============================] - 196s 4s/step - loss: 0.3499 - accuracy: 0.8429 - val_loss: 0.3321 - val_accuracy: 0.8553\n",
            "Epoch 19/50\n",
            "49/49 [==============================] - 196s 4s/step - loss: 0.3384 - accuracy: 0.8503 - val_loss: 0.3130 - val_accuracy: 0.8659\n",
            "Epoch 20/50\n",
            "49/49 [==============================] - 198s 4s/step - loss: 0.3323 - accuracy: 0.8520 - val_loss: 0.2900 - val_accuracy: 0.8760\n",
            "Epoch 21/50\n",
            "49/49 [==============================] - 199s 4s/step - loss: 0.3241 - accuracy: 0.8579 - val_loss: 0.2922 - val_accuracy: 0.8756\n",
            "Epoch 22/50\n",
            "49/49 [==============================] - 200s 4s/step - loss: 0.3231 - accuracy: 0.8594 - val_loss: 0.3044 - val_accuracy: 0.8692\n",
            "Epoch 23/50\n",
            "49/49 [==============================] - 201s 4s/step - loss: 0.3169 - accuracy: 0.8611 - val_loss: 0.2884 - val_accuracy: 0.8769\n",
            "Epoch 24/50\n",
            "49/49 [==============================] - 200s 4s/step - loss: 0.3253 - accuracy: 0.8574 - val_loss: 0.2774 - val_accuracy: 0.8795\n",
            "Epoch 25/50\n",
            "49/49 [==============================] - 201s 4s/step - loss: 0.3071 - accuracy: 0.8659 - val_loss: 0.2632 - val_accuracy: 0.8884\n",
            "Epoch 26/50\n",
            "49/49 [==============================] - 198s 4s/step - loss: 0.3073 - accuracy: 0.8657 - val_loss: 0.2793 - val_accuracy: 0.8812\n",
            "Epoch 27/50\n",
            "49/49 [==============================] - 200s 4s/step - loss: 0.3042 - accuracy: 0.8649 - val_loss: 0.3131 - val_accuracy: 0.8633\n",
            "Epoch 28/50\n",
            "49/49 [==============================] - 203s 4s/step - loss: 0.2936 - accuracy: 0.8750 - val_loss: 0.2716 - val_accuracy: 0.8837\n",
            "Epoch 29/50\n",
            "49/49 [==============================] - 198s 4s/step - loss: 0.2823 - accuracy: 0.8784 - val_loss: 0.2549 - val_accuracy: 0.8926\n",
            "Epoch 30/50\n",
            "49/49 [==============================] - 199s 4s/step - loss: 0.2886 - accuracy: 0.8743 - val_loss: 0.2445 - val_accuracy: 0.8999\n",
            "Epoch 31/50\n",
            "49/49 [==============================] - 200s 4s/step - loss: 0.2867 - accuracy: 0.8770 - val_loss: 0.2430 - val_accuracy: 0.9002\n",
            "Epoch 32/50\n",
            "49/49 [==============================] - 201s 4s/step - loss: 0.2924 - accuracy: 0.8723 - val_loss: 0.2707 - val_accuracy: 0.8834\n",
            "Epoch 33/50\n",
            "49/49 [==============================] - 200s 4s/step - loss: 0.2711 - accuracy: 0.8829 - val_loss: 0.2359 - val_accuracy: 0.9013\n",
            "Epoch 34/50\n",
            "49/49 [==============================] - 197s 4s/step - loss: 0.2649 - accuracy: 0.8856 - val_loss: 0.2212 - val_accuracy: 0.9086\n",
            "Epoch 35/50\n",
            "49/49 [==============================] - 201s 4s/step - loss: 0.2665 - accuracy: 0.8854 - val_loss: 0.2378 - val_accuracy: 0.8994\n",
            "Epoch 36/50\n",
            "49/49 [==============================] - 201s 4s/step - loss: 0.2641 - accuracy: 0.8885 - val_loss: 0.2269 - val_accuracy: 0.9063\n",
            "Epoch 37/50\n",
            "49/49 [==============================] - 201s 4s/step - loss: 0.2663 - accuracy: 0.8844 - val_loss: 0.2455 - val_accuracy: 0.8973\n",
            "Epoch 38/50\n",
            "49/49 [==============================] - 198s 4s/step - loss: 0.2608 - accuracy: 0.8893 - val_loss: 0.2227 - val_accuracy: 0.9069\n",
            "Epoch 39/50\n",
            "49/49 [==============================] - 201s 4s/step - loss: 0.2556 - accuracy: 0.8912 - val_loss: 0.2389 - val_accuracy: 0.8986\n",
            "Epoch 40/50\n",
            "49/49 [==============================] - 202s 4s/step - loss: 0.2483 - accuracy: 0.8973 - val_loss: 0.2103 - val_accuracy: 0.9144\n",
            "Epoch 41/50\n",
            "49/49 [==============================] - 202s 4s/step - loss: 0.2472 - accuracy: 0.8950 - val_loss: 0.2153 - val_accuracy: 0.9126\n",
            "Epoch 42/50\n",
            "49/49 [==============================] - 202s 4s/step - loss: 0.2509 - accuracy: 0.8925 - val_loss: 0.2067 - val_accuracy: 0.9178\n",
            "Epoch 43/50\n",
            "49/49 [==============================] - 200s 4s/step - loss: 0.2389 - accuracy: 0.9017 - val_loss: 0.2259 - val_accuracy: 0.9053\n",
            "Epoch 44/50\n",
            "49/49 [==============================] - 200s 4s/step - loss: 0.2388 - accuracy: 0.8992 - val_loss: 0.2051 - val_accuracy: 0.9160\n",
            "Epoch 45/50\n",
            "49/49 [==============================] - 199s 4s/step - loss: 0.2326 - accuracy: 0.9012 - val_loss: 0.2078 - val_accuracy: 0.9122\n",
            "Epoch 46/50\n",
            "49/49 [==============================] - 199s 4s/step - loss: 0.2303 - accuracy: 0.9031 - val_loss: 0.2468 - val_accuracy: 0.8968\n",
            "Epoch 47/50\n",
            "49/49 [==============================] - 200s 4s/step - loss: 0.2307 - accuracy: 0.9036 - val_loss: 0.1930 - val_accuracy: 0.9207\n",
            "Epoch 48/50\n",
            "49/49 [==============================] - 198s 4s/step - loss: 0.2332 - accuracy: 0.9017 - val_loss: 0.2061 - val_accuracy: 0.9144\n",
            "Epoch 49/50\n",
            "49/49 [==============================] - 200s 4s/step - loss: 0.2257 - accuracy: 0.9051 - val_loss: 0.2187 - val_accuracy: 0.9070\n",
            "Epoch 50/50\n",
            "49/49 [==============================] - 203s 4s/step - loss: 0.2239 - accuracy: 0.9063 - val_loss: 0.2427 - val_accuracy: 0.8965\n"
          ]
        }
      ]
    },
    {
      "cell_type": "markdown",
      "source": [
        "## Visualization Results"
      ],
      "metadata": {
        "id": "tqcoPjzfpVwX"
      }
    },
    {
      "cell_type": "code",
      "source": [
        "acc = history.history['accuracy']\n",
        "val_acc = history.history['val_accuracy']\n",
        "epochs = range(len(acc))\n",
        "\n",
        "plt.plot(epochs, acc, 'b', label='Training Accuracy')\n",
        "plt.plot(epochs, val_acc, 'r', label='Validation Accuracy')\n",
        "plt.title('Accuracy Graph')\n",
        "plt.legend()\n",
        "plt.figure()\n",
        "\n",
        "loss = history.history['loss']\n",
        "val_loss = history.history['loss']\n",
        "plt.plot(epochs, loss, 'b', label='Training Loss')\n",
        "plt.plot(epochs, val_loss, 'r', label='Validation Loss')\n",
        "plt.title('Loss Graph')\n",
        "plt.legend()\n",
        "plt.figure()"
      ],
      "metadata": {
        "colab": {
          "base_uri": "https://localhost:8080/",
          "height": 580
        },
        "id": "rpZ-gkTDpZqo",
        "outputId": "711d4c4b-c106-460c-ec0a-45aae66e54a3"
      },
      "execution_count": null,
      "outputs": [
        {
          "output_type": "execute_result",
          "data": {
            "text/plain": [
              "<Figure size 432x288 with 0 Axes>"
            ]
          },
          "metadata": {},
          "execution_count": 22
        },
        {
          "output_type": "display_data",
          "data": {
            "image/png": "[encoded data removed]",
            "text/plain": [
              "<Figure size 432x288 with 1 Axes>"
            ]
          },
          "metadata": {
            "needs_background": "light"
          }
        },
        {
          "output_type": "display_data",
          "data": {
            "image/png": "[encoded data removed]",
            "text/plain": [
              "<Figure size 432x288 with 1 Axes>"
            ]
          },
          "metadata": {
            "needs_background": "light"
          }
        },
        {
          "output_type": "display_data",
          "data": {
            "text/plain": [
              "<Figure size 432x288 with 0 Axes>"
            ]
          },
          "metadata": {}
        }
      ]
    }
  ]
}